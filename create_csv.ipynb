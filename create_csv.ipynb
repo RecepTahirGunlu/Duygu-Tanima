{
 "cells": [
  {
   "cell_type": "code",
   "execution_count": 1,
   "id": "a5fd1ee7",
   "metadata": {},
   "outputs": [],
   "source": [
    "import os\n",
    "import cv2\n",
    "import pandas as pd"
   ]
  },
  {
   "cell_type": "code",
   "execution_count": 2,
   "id": "60f8ecac",
   "metadata": {},
   "outputs": [],
   "source": [
    "#etiketler\n",
    "emotion_labels = ['Angry', 'Disgust', 'Fear', 'Happy', 'Sad', 'Surprise', 'Neutral']"
   ]
  },
  {
   "cell_type": "code",
   "execution_count": 3,
   "id": "1ce47da6",
   "metadata": {},
   "outputs": [],
   "source": [
    "# Resimlerin yolu\n",
    "train_directory = r\"C:/Users/RecepTahirGunlu/Desktop/Github/Duygu-Tanima/train/\"\n",
    "#labelları ekle\n",
    "train_labels = [index for index, i in enumerate(emotion_labels) for j in os.listdir(train_directory+i)]\n",
    "#resimlerin pixel değerlerini yükle\n",
    "train_features = [cv2.imread(os.path.join(train_directory+i,j),0) for i in emotion_labels for j in os.listdir(train_directory+i)]\n",
    "#labelları ve pixel değerlerini bir data frameye ekle \n",
    "train_data = {'emotion': train_labels, 'pixel_values': train_features}\n",
    "train_data = pd.DataFrame(train_data)\n",
    "# Dataframe'i csv olarak kaydet\n",
    "train_data.to_csv('train.csv')"
   ]
  },
  {
   "cell_type": "code",
   "execution_count": 4,
   "id": "fb1ba390",
   "metadata": {},
   "outputs": [],
   "source": [
    "# Resimlerin yolu\n",
    "test_directory = r\"C:/Users/RecepTahirGunlu/Desktop/Github/Duygu-Tanima/test/\"\n",
    "#labelları ekle\n",
    "test_labels = [index for index, i in enumerate(emotion_labels) for j in os.listdir(test_directory+i)]\n",
    "#resimlerin pixel değerlerini yükle\n",
    "test_features = [cv2.imread(os.path.join(test_directory+i,j),0) for i in emotion_labels for j in os.listdir(test_directory+i)]\n",
    "#labelları ve pixel değerlerini bir data frameye ekle \n",
    "test_data = {'emotion': test_labels, 'pixel_values': test_features}\n",
    "test_data = pd.DataFrame(test_data)\n",
    "# Dataframe'i csv olarak kaydet\n",
    "test_data.to_csv('test.csv')"
   ]
  },
  {
   "cell_type": "code",
   "execution_count": 5,
   "id": "c3fe4ea5",
   "metadata": {},
   "outputs": [],
   "source": [
    "# Resimlerin yolu\n",
    "validation_directory = r\"C:/Users/RecepTahirGunlu/Desktop/Github/Duygu-Tanima/validation/\"\n",
    "#labelları ekle\n",
    "validation_labels = [index for index, i in enumerate(emotion_labels) for j in os.listdir(validation_directory+i)]\n",
    "#resimlerin pixel değerlerini yükle\n",
    "validation_features = [cv2.imread(os.path.join(validation_directory+i,j),0) for i in emotion_labels for j in os.listdir(validation_directory+i)]\n",
    "#labelları ve pixel değerlerini bir data frameye ekle \n",
    "validation_data = {'emotion': validation_labels, 'pixel_values': validation_features}\n",
    "validation_data = pd.DataFrame(validation_data)\n",
    "# Dataframe'i csv olarak kaydet\n",
    "validation_data.to_csv('validation.csv')"
   ]
  }
 ],
 "metadata": {
  "kernelspec": {
   "display_name": "Python 3 (ipykernel)",
   "language": "python",
   "name": "python3"
  },
  "language_info": {
   "codemirror_mode": {
    "name": "ipython",
    "version": 3
   },
   "file_extension": ".py",
   "mimetype": "text/x-python",
   "name": "python",
   "nbconvert_exporter": "python",
   "pygments_lexer": "ipython3",
   "version": "3.9.13"
  }
 },
 "nbformat": 4,
 "nbformat_minor": 5
}
