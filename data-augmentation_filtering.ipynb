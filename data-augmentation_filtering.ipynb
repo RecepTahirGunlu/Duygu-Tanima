{
 "cells": [
  {
   "cell_type": "code",
   "execution_count": 1,
   "metadata": {},
   "outputs": [],
   "source": [
    "from keras.preprocessing.image import ImageDataGenerator\n",
    "from keras.utils import load_img, img_to_array\n",
    "import cv2 \n",
    "import numpy as np\n",
    "import os\n",
    "import matplotlib.pyplot as plt"
   ]
  },
  {
   "cell_type": "code",
   "execution_count": 2,
   "metadata": {},
   "outputs": [],
   "source": [
    "datagen = ImageDataGenerator(width_shift_range=[-5, 5], height_shift_range=[-5, 5], # sag-sol oteleme\n",
    "                             horizontal_flip=True,                            # ters deöndürme\n",
    "                             brightness_range=[0.5, 1.0],                     # parlaklık \n",
    "                             zoom_range=[0.8, 1.6])                           # yaklastirma"
   ]
  },
  {
   "cell_type": "code",
   "execution_count": 5,
   "metadata": {},
   "outputs": [],
   "source": [
    "# Train disgust sınıfı için veri çoğaltma işlemi\n",
    "\n",
    "directory = r\"C:\\Users\\uhud\\Documents\\GitHub\\Duygu-Tanima\\train\\disgust\"\n",
    "\n",
    "for i in range(len(os.listdir(directory))):\n",
    "    img = load_img(directory+'\\\\'+os.listdir(directory)[i])\n",
    "    data = img_to_array(img)\n",
    "    samples = np.expand_dims(data, 0)\n",
    "    \n",
    "    it = datagen.flow(samples, batch_size=1)\n",
    "\n",
    "   \n",
    "    for j in range(8):\n",
    "        batch = it.next()\n",
    "        image = batch[0].astype('uint8')\n",
    "        plt.imsave(r\"C:\\Users\\uhud\\Documents\\GitHub\\Duygu-Tanima\\train\\disgust_da\\{}{}.jpg\".format(os.listdir(directory)[i],j), image)"
   ]
  },
  {
   "cell_type": "code",
   "execution_count": 7,
   "metadata": {},
   "outputs": [],
   "source": [
    "# Test disgust sınıfı için veri çoğaltma işlemi\n",
    "\n",
    "directory = r\"C:\\Users\\uhud\\Documents\\GitHub\\Duygu-Tanima\\test\\disgust\"\n",
    "\n",
    "for i in range(len(os.listdir(directory))):\n",
    "    img = load_img(directory+'\\\\'+os.listdir(directory)[i])\n",
    "    data = img_to_array(img)\n",
    "    samples = np.expand_dims(data, 0)\n",
    "    \n",
    "    it = datagen.flow(samples, batch_size=1)\n",
    "\n",
    "   \n",
    "    for j in range(8):\n",
    "        batch = it.next()\n",
    "        image = batch[0].astype('uint8')\n",
    "        plt.imsave(r\"C:\\Users\\uhud\\Documents\\GitHub\\Duygu-Tanima\\test\\disgust_da\\{}{}.jpg\".format(os.listdir(directory)[i],j), image)"
   ]
  },
  {
   "cell_type": "code",
   "execution_count": 8,
   "metadata": {},
   "outputs": [],
   "source": [
    "# Validation disgust sınıfı için veri çoğaltma işlemi\n",
    "\n",
    "directory = r\"C:\\Users\\uhud\\Documents\\GitHub\\Duygu-Tanima\\validation\\disgust\"\n",
    "\n",
    "for i in range(len(os.listdir(directory))):\n",
    "    img = load_img(directory+'\\\\'+os.listdir(directory)[i])\n",
    "    data = img_to_array(img)\n",
    "    samples = np.expand_dims(data, 0)\n",
    "    \n",
    "    it = datagen.flow(samples, batch_size=1)\n",
    "\n",
    "   \n",
    "    for j in range(8):\n",
    "        batch = it.next()\n",
    "        image = batch[0].astype('uint8')\n",
    "        plt.imsave(r\"C:\\Users\\uhud\\Documents\\GitHub\\Duygu-Tanima\\validation\\disgust_da\\{}{}.jpg\".format(os.listdir(directory)[i],j), image)"
   ]
  },
  {
   "cell_type": "code",
   "execution_count": 9,
   "metadata": {},
   "outputs": [
    {
     "name": "stdout",
     "output_type": "stream",
     "text": [
      "Tamamlanan :  gry\n",
      "Tamamlanan :  sgust\n",
      "Tamamlanan :  sgust_da\n",
      "Tamamlanan :  ar\n",
      "Tamamlanan :  ppy\n",
      "Tamamlanan :  utral\n",
      "Tamamlanan :  d\n",
      "Tamamlanan :  rprise\n"
     ]
    }
   ],
   "source": [
    "# Train sınıfı için filtrelerin uygulanması\n",
    "\n",
    "directory = r\"C:\\Users\\uhud\\Documents\\GitHub\\Duygu-Tanima\\train\"\n",
    "os.chdir(directory)\n",
    "os.getcwd()\n",
    "\n",
    "for i in os.listdir():\n",
    "    os.chdir(directory +'\\\\'+ i)\n",
    "    for i in os.listdir():\n",
    "        alpha = 1.2  \n",
    "        beta = 0 \n",
    "        \n",
    "        #print(i, os.getcwd()+'\\\\'+i)\n",
    "        image = cv2.imread(i)\n",
    "        \n",
    "        image = cv2.GaussianBlur(image, (1, 1), 0)                 # Yumuşatma (Smoothing) Filtresi\n",
    "        image = cv2.convertScaleAbs(image, alpha=alpha, beta=beta) # Kontrast Artırma Filtresi\n",
    "        image = cv2.cvtColor(image, cv2.COLOR_BGR2GRAY)            \n",
    "        image = cv2.equalizeHist(image)                            # Işıklandırma Düzeltme Filtresi\n",
    "        \n",
    "        cv2.imwrite(i, image)\n",
    "        #cv2.imwrite(filename, img)\n",
    "    print(\"Tamamlanan : \", os.getcwd()[49:])"
   ]
  },
  {
   "cell_type": "code",
   "execution_count": 10,
   "metadata": {},
   "outputs": [
    {
     "name": "stdout",
     "output_type": "stream",
     "text": [
      "Tamamlanan :  ngry\n",
      "Tamamlanan :  isgust\n",
      "Tamamlanan :  isgust_da\n",
      "Tamamlanan :  ear\n",
      "Tamamlanan :  appy\n",
      "Tamamlanan :  eutral\n",
      "Tamamlanan :  ad\n",
      "Tamamlanan :  urprise\n"
     ]
    }
   ],
   "source": [
    "# Test sınıfı için filtrelerin uygulanması\n",
    "\n",
    "directory = r\"C:\\Users\\uhud\\Documents\\GitHub\\Duygu-Tanima\\test\"\n",
    "os.chdir(directory)\n",
    "os.getcwd()\n",
    "\n",
    "for i in os.listdir():\n",
    "    os.chdir(directory +'\\\\'+ i)\n",
    "    for i in os.listdir():\n",
    "        alpha = 1.2  \n",
    "        beta = 0 \n",
    "        \n",
    "        #print(i, os.getcwd()+'\\\\'+i)\n",
    "        image = cv2.imread(i)\n",
    "        \n",
    "        image = cv2.GaussianBlur(image, (1, 1), 0)\n",
    "        image = cv2.convertScaleAbs(image, alpha=alpha, beta=beta)\n",
    "        image = cv2.cvtColor(image, cv2.COLOR_BGR2GRAY)\n",
    "        image = cv2.equalizeHist(image)\n",
    "        \n",
    "        cv2.imwrite(i, image)\n",
    "        #cv2.imwrite(filename, img)\n",
    "    print(\"Tamamlanan : \", os.getcwd()[49:])"
   ]
  },
  {
   "cell_type": "code",
   "execution_count": 11,
   "metadata": {},
   "outputs": [
    {
     "name": "stdout",
     "output_type": "stream",
     "text": [
      "Tamamlanan :  ation\\angry\n",
      "Tamamlanan :  ation\\disgust\n",
      "Tamamlanan :  ation\\disgust_da\n",
      "Tamamlanan :  ation\\fear\n",
      "Tamamlanan :  ation\\happy\n",
      "Tamamlanan :  ation\\neutral\n",
      "Tamamlanan :  ation\\sad\n",
      "Tamamlanan :  ation\\surprise\n"
     ]
    }
   ],
   "source": [
    "# Validation sınıfı için filtrelerin uygulanması\n",
    "\n",
    "directory = r\"C:\\Users\\uhud\\Documents\\GitHub\\Duygu-Tanima\\validation\"\n",
    "os.chdir(directory)\n",
    "os.getcwd()\n",
    "\n",
    "for i in os.listdir():\n",
    "    os.chdir(directory +'\\\\'+ i)\n",
    "    for i in os.listdir():\n",
    "        alpha = 1.2  \n",
    "        beta = 0 \n",
    "        \n",
    "        #print(i, os.getcwd()+'\\\\'+i)\n",
    "        image = cv2.imread(i)\n",
    "        \n",
    "        image = cv2.GaussianBlur(image, (1, 1), 0)\n",
    "        image = cv2.convertScaleAbs(image, alpha=alpha, beta=beta)\n",
    "        image = cv2.cvtColor(image, cv2.COLOR_BGR2GRAY)\n",
    "        image = cv2.equalizeHist(image)\n",
    "        \n",
    "        cv2.imwrite(i, image)\n",
    "        #cv2.imwrite(filename, img)\n",
    "    print(\"Tamamlanan : \", os.getcwd()[49:])"
   ]
  },
  {
   "cell_type": "code",
   "execution_count": null,
   "metadata": {},
   "outputs": [],
   "source": []
  }
 ],
 "metadata": {
  "kernelspec": {
   "display_name": "Python 3",
   "language": "python",
   "name": "python3"
  },
  "language_info": {
   "codemirror_mode": {
    "name": "ipython",
    "version": 3
   },
   "file_extension": ".py",
   "mimetype": "text/x-python",
   "name": "python",
   "nbconvert_exporter": "python",
   "pygments_lexer": "ipython3",
   "version": "3.8.5"
  }
 },
 "nbformat": 4,
 "nbformat_minor": 4
}
